{
  "cells": [
    {
      "cell_type": "code",
      "execution_count": 76,
      "metadata": {
        "id": "PpHy04iyrWwK"
      },
      "outputs": [],
      "source": [
        "import numpy as np\n",
        "import pandas as pd\n",
        "import matplotlib.pyplot as plt\n",
        "import matplotlib.axes as ax\n"
      ]
    },
    {
      "cell_type": "code",
      "execution_count": 77,
      "metadata": {
        "id": "2RLWJjbFroy2"
      },
      "outputs": [],
      "source": [
        "df=pd.read_csv(\"knowledge_level.csv\")"
      ]
    },
    {
      "cell_type": "code",
      "execution_count": 78,
      "metadata": {
        "id": "iZ4afcGauwPc"
      },
      "outputs": [],
      "source": [
        "df=df.drop(columns='knowledge_level')\n",
        "##df=df[:50]"
      ]
    },
    {
      "cell_type": "code",
      "execution_count": 79,
      "metadata": {
        "colab": {
          "base_uri": "https://localhost:8080/",
          "height": 203
        },
        "id": "M6QYf1qprw78",
        "outputId": "ce786c61-8b2a-4c27-cd49-4857b0949a27"
      },
      "outputs": [
        {
          "data": {
            "text/html": [
              "<div>\n",
              "<style scoped>\n",
              "    .dataframe tbody tr th:only-of-type {\n",
              "        vertical-align: middle;\n",
              "    }\n",
              "\n",
              "    .dataframe tbody tr th {\n",
              "        vertical-align: top;\n",
              "    }\n",
              "\n",
              "    .dataframe thead th {\n",
              "        text-align: right;\n",
              "    }\n",
              "</style>\n",
              "<table border=\"1\" class=\"dataframe\">\n",
              "  <thead>\n",
              "    <tr style=\"text-align: right;\">\n",
              "      <th></th>\n",
              "      <th>repetition_time</th>\n",
              "      <th>Study_time</th>\n",
              "    </tr>\n",
              "  </thead>\n",
              "  <tbody>\n",
              "    <tr>\n",
              "      <th>0</th>\n",
              "      <td>0.00</td>\n",
              "      <td>0.00</td>\n",
              "    </tr>\n",
              "    <tr>\n",
              "      <th>1</th>\n",
              "      <td>0.08</td>\n",
              "      <td>0.90</td>\n",
              "    </tr>\n",
              "    <tr>\n",
              "      <th>2</th>\n",
              "      <td>0.06</td>\n",
              "      <td>0.33</td>\n",
              "    </tr>\n",
              "    <tr>\n",
              "      <th>3</th>\n",
              "      <td>0.10</td>\n",
              "      <td>0.30</td>\n",
              "    </tr>\n",
              "    <tr>\n",
              "      <th>4</th>\n",
              "      <td>0.08</td>\n",
              "      <td>0.24</td>\n",
              "    </tr>\n",
              "  </tbody>\n",
              "</table>\n",
              "</div>"
            ],
            "text/plain": [
              "   repetition_time  Study_time\n",
              "0             0.00        0.00\n",
              "1             0.08        0.90\n",
              "2             0.06        0.33\n",
              "3             0.10        0.30\n",
              "4             0.08        0.24"
            ]
          },
          "execution_count": 79,
          "metadata": {},
          "output_type": "execute_result"
        }
      ],
      "source": [
        "df.head()\n"
      ]
    },
    {
      "cell_type": "code",
      "execution_count": 80,
      "metadata": {
        "colab": {
          "base_uri": "https://localhost:8080/"
        },
        "id": "W-kXBZTnryhR",
        "outputId": "9b6c3622-27bc-4d67-9196-5bcfc504e697"
      },
      "outputs": [
        {
          "data": {
            "text/plain": [
              "(258, 2)"
            ]
          },
          "execution_count": 80,
          "metadata": {},
          "output_type": "execute_result"
        }
      ],
      "source": [
        "df.shape"
      ]
    },
    {
      "cell_type": "code",
      "execution_count": 81,
      "metadata": {
        "colab": {
          "base_uri": "https://localhost:8080/"
        },
        "id": "Zek63397sYVx",
        "outputId": "adb39151-c8b3-4cd0-c7a9-5a5f1e31e159"
      },
      "outputs": [
        {
          "name": "stdout",
          "output_type": "stream",
          "text": [
            "<class 'pandas.core.frame.DataFrame'>\n",
            "RangeIndex: 258 entries, 0 to 257\n",
            "Data columns (total 2 columns):\n",
            " #   Column           Non-Null Count  Dtype  \n",
            "---  ------           --------------  -----  \n",
            " 0   repetition_time  258 non-null    float64\n",
            " 1   Study_time       258 non-null    float64\n",
            "dtypes: float64(2)\n",
            "memory usage: 4.2 KB\n"
          ]
        }
      ],
      "source": [
        "df.info()\n"
      ]
    },
    {
      "cell_type": "code",
      "execution_count": 82,
      "metadata": {
        "colab": {
          "base_uri": "https://localhost:8080/",
          "height": 295
        },
        "id": "MROfsBuAsZXu",
        "outputId": "5ff0fbc8-05cb-4e86-e3da-f6e439c32145"
      },
      "outputs": [
        {
          "data": {
            "text/html": [
              "<div>\n",
              "<style scoped>\n",
              "    .dataframe tbody tr th:only-of-type {\n",
              "        vertical-align: middle;\n",
              "    }\n",
              "\n",
              "    .dataframe tbody tr th {\n",
              "        vertical-align: top;\n",
              "    }\n",
              "\n",
              "    .dataframe thead th {\n",
              "        text-align: right;\n",
              "    }\n",
              "</style>\n",
              "<table border=\"1\" class=\"dataframe\">\n",
              "  <thead>\n",
              "    <tr style=\"text-align: right;\">\n",
              "      <th></th>\n",
              "      <th>repetition_time</th>\n",
              "      <th>Study_time</th>\n",
              "    </tr>\n",
              "  </thead>\n",
              "  <tbody>\n",
              "    <tr>\n",
              "      <th>count</th>\n",
              "      <td>258.000000</td>\n",
              "      <td>258.000000</td>\n",
              "    </tr>\n",
              "    <tr>\n",
              "      <th>mean</th>\n",
              "      <td>0.355674</td>\n",
              "      <td>0.458539</td>\n",
              "    </tr>\n",
              "    <tr>\n",
              "      <th>std</th>\n",
              "      <td>0.211962</td>\n",
              "      <td>0.255211</td>\n",
              "    </tr>\n",
              "    <tr>\n",
              "      <th>min</th>\n",
              "      <td>0.000000</td>\n",
              "      <td>0.000000</td>\n",
              "    </tr>\n",
              "    <tr>\n",
              "      <th>25%</th>\n",
              "      <td>0.210000</td>\n",
              "      <td>0.250000</td>\n",
              "    </tr>\n",
              "    <tr>\n",
              "      <th>50%</th>\n",
              "      <td>0.302500</td>\n",
              "      <td>0.500000</td>\n",
              "    </tr>\n",
              "    <tr>\n",
              "      <th>75%</th>\n",
              "      <td>0.497500</td>\n",
              "      <td>0.660000</td>\n",
              "    </tr>\n",
              "    <tr>\n",
              "      <th>max</th>\n",
              "      <td>0.900000</td>\n",
              "      <td>0.930000</td>\n",
              "    </tr>\n",
              "  </tbody>\n",
              "</table>\n",
              "</div>"
            ],
            "text/plain": [
              "       repetition_time  Study_time\n",
              "count       258.000000  258.000000\n",
              "mean          0.355674    0.458539\n",
              "std           0.211962    0.255211\n",
              "min           0.000000    0.000000\n",
              "25%           0.210000    0.250000\n",
              "50%           0.302500    0.500000\n",
              "75%           0.497500    0.660000\n",
              "max           0.900000    0.930000"
            ]
          },
          "execution_count": 82,
          "metadata": {},
          "output_type": "execute_result"
        }
      ],
      "source": [
        "df.describe()"
      ]
    },
    {
      "cell_type": "code",
      "execution_count": 83,
      "metadata": {
        "colab": {
          "base_uri": "https://localhost:8080/",
          "height": 280
        },
        "id": "eujzCg5LuFbD",
        "outputId": "0145eb6b-47d0-4b4d-cf17-b5e7051f5d9c"
      },
      "outputs": [
        {
          "data": {
            "image/png": "[encoded data removed]",
            "text/plain": [
              "<Figure size 432x288 with 1 Axes>"
            ]
          },
          "metadata": {
            "needs_background": "light"
          },
          "output_type": "display_data"
        }
      ],
      "source": [
        "plt.scatter(df['repetition_time'],df['Study_time'])\n",
        "plt.xlabel('repition_time')\n",
        "plt.ylabel('Study_time')\n",
        "plt.show()"
      ]
    },
    {
      "cell_type": "code",
      "execution_count": 84,
      "metadata": {
        "colab": {
          "base_uri": "https://localhost:8080/"
        },
        "id": "gLsuvvNFuZnJ",
        "outputId": "f1f3f227-ed09-4ee2-f0eb-b269b9635ead"
      },
      "outputs": [
        {
          "data": {
            "text/plain": [
              "array([[-1.68126919, -1.80019743],\n",
              "       [-1.30311004,  1.73315205],\n",
              "       [-1.39764983, -0.50463595],\n",
              "       [-1.20857025, -0.62241427],\n",
              "       [-1.30311004, -0.8579709 ],\n",
              "       [-0.97222078,  0.79092552],\n",
              "       [-1.20857025,  0.39833113],\n",
              "       [-1.5867294 , -1.76093799],\n",
              "       [-1.01949068, -0.81871146],\n",
              "       [-1.68126919,  1.53685485],\n",
              "       [-0.8304111 ,  1.3798171 ],\n",
              "       [-1.39764983, -0.62241427],\n",
              "       [-1.20857025, -0.46537652],\n",
              "       [-1.20857025,  1.73315205],\n",
              "       [-0.73587132,  0.55536889],\n",
              "       [-1.11403047,  1.34055766],\n",
              "       [-1.35037993, -1.60390024],\n",
              "       [-0.49952185, -0.50463595],\n",
              "       [-0.1686326 , -0.66167371],\n",
              "       [-0.31044228,  0.39833113],\n",
              "       [-0.35771217, -1.01500866],\n",
              "       [-0.26317238,  0.79092552],\n",
              "       [-0.40498206,  0.75166608],\n",
              "       [-0.21590249, -0.70093315],\n",
              "       [-0.31044228, -0.81871146],\n",
              "       [-0.26317238,  1.53685485],\n",
              "       [-0.35771217, -1.40760304],\n",
              "       [-0.4758869 , -0.81871146],\n",
              "       [-0.14499765,  0.39833113],\n",
              "       [-0.38134712,  1.3798171 ],\n",
              "       [-0.5231568 ,  0.51610945],\n",
              "       [-0.28680733, -0.8579709 ],\n",
              "       [-0.47115991, -1.17204641],\n",
              "       [-0.1686326 ,  1.41907654],\n",
              "       [ 0.44587602,  1.26203878],\n",
              "       [-0.02682292, -0.66167371],\n",
              "       [ 0.30406634, -0.77945202],\n",
              "       [ 0.20952655, -0.50463595],\n",
              "       [-0.1213627 , -1.80019743],\n",
              "       [ 0.11498676, -0.03352269],\n",
              "       [-0.1213627 , -1.40760304],\n",
              "       [ 0.63495559,  1.26203878],\n",
              "       [ 0.63495559,  0.55536889],\n",
              "       [-0.1213627 , -0.81871146],\n",
              "       [-0.02682292, -1.64315967],\n",
              "       [ 0.02044698,  0.79092552],\n",
              "       [ 0.16225666,  0.63388776],\n",
              "       [ 0.16225666,  1.22277934],\n",
              "       [-0.07409281,  1.73315205],\n",
              "       [ 0.72949538,  0.83018496],\n",
              "       [ 0.68222549, -0.81871146],\n",
              "       [ 1.62762335, -0.03352269],\n",
              "       [ 0.91857495, -1.60390024],\n",
              "       [ 1.86397282,  1.57611429],\n",
              "       [ 1.72216314,  0.35907169],\n",
              "       [ 1.15492442, -0.77945202],\n",
              "       [ 0.77676527, -0.81871146],\n",
              "       [ 1.15492442,  0.51610945],\n",
              "       [ 0.72949538,  1.41907654],\n",
              "       [ 1.06038463, -1.40760304],\n",
              "       [ 1.20219431, -1.76093799],\n",
              "       [ 1.95851261,  0.39833113],\n",
              "       [ 2.05305239,  0.20203394],\n",
              "       [ 1.53308357, -0.70093315],\n",
              "       [ 1.06038463, -0.70093315],\n",
              "       [-1.20857025, -1.21130585],\n",
              "       [-0.73587132, -0.8579709 ],\n",
              "       [-1.39764983,  0.20203394],\n",
              "       [-1.20857025, -0.54389539],\n",
              "       [-1.30311004,  0.83018496],\n",
              "       [-1.11403047,  0.47685001],\n",
              "       [-1.20857025,  1.14426047],\n",
              "       [-0.97222078, -1.48612192],\n",
              "       [-0.73587132,  0.28055282],\n",
              "       [-0.92495089,  1.26203878],\n",
              "       [-0.8304111 , -1.40760304],\n",
              "       [-1.39764983, -1.40760304],\n",
              "       [-1.20857025, -0.62241427],\n",
              "       [-1.20857025, -1.01500866],\n",
              "       [-0.73587132, -0.70093315],\n",
              "       [-1.11403047, -0.8579709 ],\n",
              "       [-0.49952185,  0.83018496],\n",
              "       [-0.1686326 ,  0.63388776],\n",
              "       [-0.31044228, -0.77945202],\n",
              "       [-1.20857025, -0.81871146],\n",
              "       [-0.26317238, -1.68241911],\n",
              "       [-0.49952185,  1.30129822],\n",
              "       [-0.21590249, -0.70093315],\n",
              "       [-0.31044228, -1.09352753],\n",
              "       [-0.26317238,  0.83018496],\n",
              "       [-0.35771217,  0.39833113],\n",
              "       [-0.4758869 , -0.46537652],\n",
              "       [-0.42861701, -1.44686248],\n",
              "       [-0.21590249, -0.8579709 ],\n",
              "       [-0.1686326 ,  1.34055766],\n",
              "       [-0.23953744, -1.21130585],\n",
              "       [-0.49952185, -1.05426809],\n",
              "       [-0.49952185,  1.22277934],\n",
              "       [-0.49952185,  0.43759057],\n",
              "       [-0.40498206, -0.66167371],\n",
              "       [-0.35771217, -0.77945202],\n",
              "       [-0.1686326 ,  1.61537373],\n",
              "       [-0.40498206,  0.31981226],\n",
              "       [-0.45225196, -0.74019259],\n",
              "       [-0.31044228, -1.40760304],\n",
              "       [-0.26317238,  0.83018496],\n",
              "       [-0.35771217,  0.51610945],\n",
              "       [-0.4758869 ,  0.31981226],\n",
              "       [-0.40498206, -0.62241427],\n",
              "       [-0.28680733,  1.49759541],\n",
              "       [-0.4758869 , -0.50463595],\n",
              "       [-0.21590249, -0.62241427],\n",
              "       [-0.35771217,  0.47685001],\n",
              "       [ 0.91857495,  1.30129822],\n",
              "       [ 1.10765453,  0.35907169],\n",
              "       [ 1.34400399, -0.03352269],\n",
              "       [ 1.15492442, -1.52538136],\n",
              "       [ 1.58035346,  0.94796327],\n",
              "       [ 2.0057825 ,  0.79092552],\n",
              "       [ 1.20219431,  1.3798171 ],\n",
              "       [ 1.39127389, -1.28982473],\n",
              "       [ 1.86397282, -0.81871146],\n",
              "       [ 0.91857495, -0.49285812],\n",
              "       [ 2.33667176,  1.45833598],\n",
              "       [ 2.57302122,  1.18351991],\n",
              "       [ 2.10032229,  0.1627745 ],\n",
              "       [ 1.62762335,  0.79092552],\n",
              "       [ 1.91124271, -0.70093315],\n",
              "       [ 1.72216314, -1.25056529],\n",
              "       [ 1.15492442, -0.70093315],\n",
              "       [-1.44491972, -0.46537652],\n",
              "       [-0.8304111 ,  0.83018496],\n",
              "       [-1.49218961, -1.52538136],\n",
              "       [-1.11403047,  0.98722271],\n",
              "       [-1.11403047,  0.75166608],\n",
              "       [-0.8304111 ,  0.1627745 ],\n",
              "       [-1.20857025, -0.77945202],\n",
              "       [-1.39764983, -1.40760304],\n",
              "       [-1.25584015,  0.47685001],\n",
              "       [-1.63399929, -0.62241427],\n",
              "       [-1.49218961, -1.40760304],\n",
              "       [-0.97222078, -0.22981988],\n",
              "       [-1.30311004,  0.39833113],\n",
              "       [-0.97222078, -0.66167371],\n",
              "       [-0.68860142,  0.08425562],\n",
              "       [-0.73587132,  0.75166608],\n",
              "       [-0.53261078, -0.42611708],\n",
              "       [-0.40498206, -1.40760304],\n",
              "       [-0.26789937, -1.28982473],\n",
              "       [-0.26317238,  1.22277934],\n",
              "       [-0.5231568 ,  1.57611429],\n",
              "       [-0.28680733, -0.62241427],\n",
              "       [-0.31044228, -1.28982473],\n",
              "       [-0.45225196, -1.25056529],\n",
              "       [-0.23953744,  0.71240664],\n",
              "       [-0.1686326 ,  0.24129338],\n",
              "       [-0.26789937,  0.20203394],\n",
              "       [-0.37662013,  1.45833598],\n",
              "       [-0.46170594,  0.51610945],\n",
              "       [-0.1686326 ,  0.31981226],\n",
              "       [-0.12608969, -1.09352753],\n",
              "       [-0.45225196, -0.62241427],\n",
              "       [ 0.16225666,  1.65463317],\n",
              "       [ 0.44587602,  1.69389261],\n",
              "       [-0.07409281, -1.32908416],\n",
              "       [-0.1213627 ,  1.73315205],\n",
              "       [ 0.20952655,  0.59462833],\n",
              "       [ 0.02044698,  1.26203878],\n",
              "       [ 0.11498676, -1.17204641],\n",
              "       [ 0.63495559,  1.81167092],\n",
              "       [ 0.02044698, -0.81871146],\n",
              "       [ 0.11498676,  0.12351506],\n",
              "       [-0.1213627 ,  1.53685485],\n",
              "       [ 0.30406634, -1.17204641],\n",
              "       [ 0.39860612,  0.79092552],\n",
              "       [ 0.16225666, -0.62241427],\n",
              "       [ 0.30406634, -1.05426809],\n",
              "       [-0.07409281,  0.98722271],\n",
              "       [ 1.34400399,  0.55536889],\n",
              "       [ 0.91857495,  1.45833598],\n",
              "       [ 1.53308357, -1.09352753],\n",
              "       [ 1.39127389,  0.35907169],\n",
              "       [ 2.0057825 ,  1.69389261],\n",
              "       [ 0.91857495, -0.62241427],\n",
              "       [ 1.10765453, -1.01500866],\n",
              "       [ 1.34400399, -0.97574922],\n",
              "       [ 2.19486207,  1.85093036],\n",
              "       [ 1.58035346,  0.43759057],\n",
              "       [ 1.01311474, -0.81871146],\n",
              "       [ 2.57302122,  0.04499619],\n",
              "       [ 1.62762335,  0.71240664],\n",
              "       [ 1.62762335,  1.34055766],\n",
              "       [ 1.15492442,  0.1627745 ],\n",
              "       [ 1.20219431,  0.83018496],\n",
              "       [-1.01949068,  0.79092552],\n",
              "       [-1.20857025, -0.66167371],\n",
              "       [-0.78314121, -1.40760304],\n",
              "       [-0.73587132, -0.77945202],\n",
              "       [-0.97222078,  0.6731472 ],\n",
              "       [-1.20857025, -1.40760304],\n",
              "       [-0.8304111 , -1.44686248],\n",
              "       [-1.25584015,  0.1627745 ],\n",
              "       [-0.78314121, -1.40760304],\n",
              "       [-1.5867294 , -0.66167371],\n",
              "       [-0.68860142,  1.14426047],\n",
              "       [-1.01949068, -1.21130585],\n",
              "       [-0.8304111 ,  0.79092552],\n",
              "       [-1.61036435,  0.28055282],\n",
              "       [-0.877681  , -1.3683436 ],\n",
              "       [-1.44491972,  0.8694444 ],\n",
              "       [-0.40498206,  0.63388776],\n",
              "       [-0.31044228,  0.20203394],\n",
              "       [-0.45225196,  1.30129822],\n",
              "       [-0.46170594, -0.46537652],\n",
              "       [-0.1686326 ,  0.55536889],\n",
              "       [-0.49479486, -0.62241427],\n",
              "       [-0.31989626, -0.62241427],\n",
              "       [-0.21590249,  0.47685001],\n",
              "       [-0.4758869 ,  0.71240664],\n",
              "       [-0.28680733, -0.62241427],\n",
              "       [-0.46170594, -0.8579709 ],\n",
              "       [-0.41916303, -0.70093315],\n",
              "       [-0.35771217,  0.79092552],\n",
              "       [-0.40498206,  0.43759057],\n",
              "       [-0.26789937, -0.97574922],\n",
              "       [-0.31044228,  0.8694444 ],\n",
              "       [ 0.56405075,  0.51610945],\n",
              "       [-0.03627689, -0.58315483],\n",
              "       [-0.09772776,  1.26203878],\n",
              "       [ 0.63495559,  0.90870384],\n",
              "       [ 0.35133623,  0.75166608],\n",
              "       [-0.1213627 , -0.70093315],\n",
              "       [ 0.20952655, -0.89723034],\n",
              "       [ 0.39860612,  0.79092552],\n",
              "       [ 0.11498676,  0.63388776],\n",
              "       [-0.02682292, -0.62241427],\n",
              "       [ 0.25679644, -0.93648978],\n",
              "       [ 0.02044698,  1.45833598],\n",
              "       [ 0.06771687,  0.71240664],\n",
              "       [ 0.39860612,  0.24129338],\n",
              "       [ 0.20952655, -1.01500866],\n",
              "       [ 0.49314591,  1.57611429],\n",
              "       [ 0.91857495,  0.6731472 ],\n",
              "       [ 2.33667176, -0.81871146],\n",
              "       [ 1.24946421, -0.81871146],\n",
              "       [ 1.06038463,  1.65463317],\n",
              "       [ 1.48581367,  0.79092552],\n",
              "       [ 1.06038463, -0.66167371],\n",
              "       [ 1.53308357,  1.73315205],\n",
              "       [ 1.15492442, -0.03352269],\n",
              "       [ 1.2967341 ,  0.79092552],\n",
              "       [ 1.15492442,  0.1627745 ],\n",
              "       [ 0.72949538, -1.05426809],\n",
              "       [ 2.0057825 ,  0.47685001],\n",
              "       [ 1.20219431,  0.55536889],\n",
              "       [ 2.19486207,  1.22277934],\n",
              "       [ 1.86397282, -0.77945202],\n",
              "       [ 2.57302122,  1.10500103]])"
            ]
          },
          "execution_count": 84,
          "metadata": {},
          "output_type": "execute_result"
        }
      ],
      "source": [
        "from sklearn import preprocessing\n",
        "\n",
        "data_scaled=df.copy()\n",
        "data_scaled=preprocessing.scale(df)\n",
        "data_scaled"
      ]
    },
    {
      "cell_type": "code",
      "execution_count": 85,
      "metadata": {
        "id": "s1__Pd-XvDjK"
      },
      "outputs": [],
      "source": [
        "from sklearn.cluster import KMeans\n",
        "##within cluster sum of squares(wcss)\n",
        "w=[]\n",
        "for i in range(1,8):\n",
        "  kmeans=KMeans(n_clusters =i,random_state=0)\n",
        "  kmeans.fit(data_scaled)\n",
        "  w.append(kmeans.inertia_)\n",
        "\n"
      ]
    },
    {
      "cell_type": "code",
      "execution_count": 86,
      "metadata": {
        "colab": {
          "base_uri": "https://localhost:8080/",
          "height": 279
        },
        "id": "5djKWR0HvMkT",
        "outputId": "d4470a27-aca7-4318-b3f1-bebb8696834a"
      },
      "outputs": [
        {
          "data": {
            "image/png": "[encoded data removed]",
            "text/plain": [
              "<Figure size 432x288 with 1 Axes>"
            ]
          },
          "metadata": {
            "needs_background": "light"
          },
          "output_type": "display_data"
        }
      ],
      "source": [
        "plt.plot(range(1,8),w)\n",
        "plt.xlabel(\"cluster number\")\n",
        "plt.ylabel(\"wcss value\")\n",
        "plt.show()"
      ]
    },
    {
      "cell_type": "code",
      "execution_count": 87,
      "metadata": {
        "id": "lx62yh09vS2m"
      },
      "outputs": [],
      "source": [
        "from scipy.cluster.hierarchy import dendrogram, linkage"
      ]
    },
    {
      "cell_type": "code",
      "execution_count": 88,
      "metadata": {
        "id": "CqNygEr2Cbd6"
      },
      "outputs": [],
      "source": [
        "x=linkage(data_scaled,method='ward')"
      ]
    },
    {
      "cell_type": "code",
      "execution_count": 89,
      "metadata": {
        "colab": {
          "base_uri": "https://localhost:8080/",
          "height": 441
        },
        "id": "KW5W1O5nChPD",
        "outputId": "643a2687-afd2-440c-b520-2375d5434ac4"
      },
      "outputs": [
        {
          "data": {
            "image/png": "[encoded data removed]",
            "text/plain": [
              "<Figure size 360x432 with 1 Axes>"
            ]
          },
          "metadata": {
            "needs_background": "light"
          },
          "output_type": "display_data"
        }
      ],
      "source": [
        "fig,ax = plt.subplots(figsize=(5,6))\n",
        "ax=dendrogram(x)\n",
        "plt.tight_layout()\n",
        "plt.show()"
      ]
    },
    {
      "cell_type": "code",
      "execution_count": 90,
      "metadata": {
        "colab": {
          "base_uri": "https://localhost:8080/"
        },
        "id": "LWL5ZLeJCwOn",
        "outputId": "ad1ee3ff-f6c9-4912-f641-8a3700dd1fcd"
      },
      "outputs": [
        {
          "data": {
            "text/plain": [
              "AgglomerativeClustering(affinity='euclidean', compute_full_tree='auto',\n",
              "                        connectivity=None, distance_threshold=None,\n",
              "                        linkage='ward', memory=None, n_clusters=4)"
            ]
          },
          "execution_count": 90,
          "metadata": {},
          "output_type": "execute_result"
        }
      ],
      "source": [
        "from sklearn.cluster import AgglomerativeClustering\n",
        "ag= AgglomerativeClustering(n_clusters=4,affinity='euclidean',linkage='ward')\n",
        "ag.fit(data_scaled)"
      ]
    },
    {
      "cell_type": "code",
      "execution_count": 91,
      "metadata": {
        "id": "inEWdqnEDVzs"
      },
      "outputs": [],
      "source": [
        "cluster_data=df.copy()\n",
        "cluster_data['cluster_pred']=ag.fit_predict(data_scaled)"
      ]
    },
    {
      "cell_type": "code",
      "execution_count": 92,
      "metadata": {
        "colab": {
          "base_uri": "https://localhost:8080/",
          "height": 203
        },
        "id": "6pzYXkaODrzR",
        "outputId": "82c23a1a-c12e-40b4-ebf9-e5a5fa8634e7"
      },
      "outputs": [
        {
          "data": {
            "text/html": [
              "<div>\n",
              "<style scoped>\n",
              "    .dataframe tbody tr th:only-of-type {\n",
              "        vertical-align: middle;\n",
              "    }\n",
              "\n",
              "    .dataframe tbody tr th {\n",
              "        vertical-align: top;\n",
              "    }\n",
              "\n",
              "    .dataframe thead th {\n",
              "        text-align: right;\n",
              "    }\n",
              "</style>\n",
              "<table border=\"1\" class=\"dataframe\">\n",
              "  <thead>\n",
              "    <tr style=\"text-align: right;\">\n",
              "      <th></th>\n",
              "      <th>repetition_time</th>\n",
              "      <th>Study_time</th>\n",
              "      <th>cluster_pred</th>\n",
              "    </tr>\n",
              "  </thead>\n",
              "  <tbody>\n",
              "    <tr>\n",
              "      <th>0</th>\n",
              "      <td>0.00</td>\n",
              "      <td>0.00</td>\n",
              "      <td>1</td>\n",
              "    </tr>\n",
              "    <tr>\n",
              "      <th>1</th>\n",
              "      <td>0.08</td>\n",
              "      <td>0.90</td>\n",
              "      <td>0</td>\n",
              "    </tr>\n",
              "    <tr>\n",
              "      <th>2</th>\n",
              "      <td>0.06</td>\n",
              "      <td>0.33</td>\n",
              "      <td>1</td>\n",
              "    </tr>\n",
              "    <tr>\n",
              "      <th>3</th>\n",
              "      <td>0.10</td>\n",
              "      <td>0.30</td>\n",
              "      <td>1</td>\n",
              "    </tr>\n",
              "    <tr>\n",
              "      <th>4</th>\n",
              "      <td>0.08</td>\n",
              "      <td>0.24</td>\n",
              "      <td>1</td>\n",
              "    </tr>\n",
              "  </tbody>\n",
              "</table>\n",
              "</div>"
            ],
            "text/plain": [
              "   repetition_time  Study_time  cluster_pred\n",
              "0             0.00        0.00             1\n",
              "1             0.08        0.90             0\n",
              "2             0.06        0.33             1\n",
              "3             0.10        0.30             1\n",
              "4             0.08        0.24             1"
            ]
          },
          "execution_count": 92,
          "metadata": {},
          "output_type": "execute_result"
        }
      ],
      "source": [
        "cluster_data.head()"
      ]
    },
    {
      "cell_type": "code",
      "execution_count": 93,
      "metadata": {
        "colab": {
          "base_uri": "https://localhost:8080/"
        },
        "id": "RWwp1IagDwnF",
        "outputId": "3b201d93-00cb-427c-ba85-4427cae8cace"
      },
      "outputs": [
        {
          "data": {
            "text/plain": [
              "array([1, 0, 1, 1, 1, 0, 0, 1, 1, 0, 0, 1, 1, 0, 0, 0, 1, 1, 1, 0, 1, 0,\n",
              "       0, 1, 1, 0, 1, 1, 0, 0, 0, 1, 1, 0, 0, 1, 1, 1, 1, 0, 1, 0, 0, 1,\n",
              "       1, 0, 0, 0, 0, 0, 3, 2, 3, 2, 2, 3, 3, 2, 0, 3, 3, 2, 2, 3, 3, 1,\n",
              "       1, 0, 1, 0, 0, 0, 1, 0, 0, 1, 1, 1, 1, 1, 1, 0, 0, 1, 1, 1, 0, 1,\n",
              "       1, 0, 0, 1, 1, 1, 0, 1, 1, 0, 0, 1, 1, 0, 0, 1, 1, 0, 0, 0, 1, 0,\n",
              "       1, 1, 0, 0, 2, 2, 3, 2, 2, 0, 3, 3, 3, 2, 2, 2, 2, 3, 3, 3, 1, 0,\n",
              "       1, 0, 0, 0, 1, 1, 0, 1, 1, 1, 0, 1, 0, 0, 1, 1, 1, 0, 0, 1, 1, 1,\n",
              "       0, 0, 0, 0, 0, 0, 1, 1, 0, 0, 1, 0, 0, 0, 1, 0, 1, 0, 0, 1, 0, 1,\n",
              "       1, 0, 2, 0, 3, 2, 2, 3, 3, 3, 2, 2, 3, 2, 2, 2, 2, 2, 0, 1, 1, 1,\n",
              "       0, 1, 1, 0, 1, 1, 0, 1, 0, 0, 1, 0, 0, 0, 0, 1, 0, 1, 1, 0, 0, 1,\n",
              "       1, 1, 0, 0, 1, 0, 0, 1, 0, 0, 0, 1, 1, 0, 0, 1, 1, 0, 0, 0, 1, 0,\n",
              "       0, 3, 3, 0, 2, 3, 2, 2, 2, 2, 3, 2, 2, 2, 3, 2])"
            ]
          },
          "execution_count": 93,
          "metadata": {},
          "output_type": "execute_result"
        }
      ],
      "source": [
        " ag.labels_"
      ]
    },
    {
      "cell_type": "code",
      "execution_count": 94,
      "metadata": {
        "colab": {
          "base_uri": "https://localhost:8080/",
          "height": 280
        },
        "id": "wuorsv_GD5Yp",
        "outputId": "87a7e597-5479-4110-d47c-5a6718f242e6"
      },
      "outputs": [
        {
          "data": {
            "image/png": "[encoded data removed]",
            "text/plain": [
              "<Figure size 432x288 with 1 Axes>"
            ]
          },
          "metadata": {
            "needs_background": "light"
          },
          "output_type": "display_data"
        }
      ],
      "source": [
        "plt.scatter(df['repetition_time'],df['Study_time'],c=cluster_data['cluster_pred'],cmap='rainbow')\n",
        "plt.xlabel('repition_time')\n",
        "plt.ylabel('study_time')\n",
        "plt.show()"
      ]
    },
    {
      "cell_type": "code",
      "execution_count": 94,
      "metadata": {
        "id": "WzVHLCOjEFc1"
      },
      "outputs": [],
      "source": []
    }
  ],
  "metadata": {
    "colab": {
      "collapsed_sections": [],
      "name": "AgglomerativeClustering.ipynb",
      "provenance": []
    },
    "kernelspec": {
      "display_name": "Python 3",
      "name": "python3"
    },
    "language_info": {
      "name": "python"
    }
  },
  "nbformat": 4,
  "nbformat_minor": 0
}
